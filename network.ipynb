{
 "cells": [
  {
   "cell_type": "code",
   "execution_count": 1,
   "metadata": {},
   "outputs": [],
   "source": [
    "import pandas as pd\n",
    "import numpy as np"
   ]
  },
  {
   "cell_type": "code",
   "execution_count": 2,
   "metadata": {},
   "outputs": [
    {
     "data": {
      "text/html": [
       "<div>\n",
       "<style scoped>\n",
       "    .dataframe tbody tr th:only-of-type {\n",
       "        vertical-align: middle;\n",
       "    }\n",
       "\n",
       "    .dataframe tbody tr th {\n",
       "        vertical-align: top;\n",
       "    }\n",
       "\n",
       "    .dataframe thead th {\n",
       "        text-align: right;\n",
       "    }\n",
       "</style>\n",
       "<table border=\"1\" class=\"dataframe\">\n",
       "  <thead>\n",
       "    <tr style=\"text-align: right;\">\n",
       "      <th></th>\n",
       "      <th>article</th>\n",
       "      <th>label</th>\n",
       "    </tr>\n",
       "  </thead>\n",
       "  <tbody>\n",
       "    <tr>\n",
       "      <td>0</td>\n",
       "      <td>['의료', '물품', '비축', '제도', '신설', '기금', '등', '재원'...</td>\n",
       "      <td>0</td>\n",
       "    </tr>\n",
       "    <tr>\n",
       "      <td>1</td>\n",
       "      <td>['의료', '물품', '비축', '제도', '신설', '인도', '지원', '최대...</td>\n",
       "      <td>0</td>\n",
       "    </tr>\n",
       "    <tr>\n",
       "      <td>2</td>\n",
       "      <td>['아세안', '특별', '화상', '정상', '회의', '채택', '대통령', '...</td>\n",
       "      <td>0</td>\n",
       "    </tr>\n",
       "    <tr>\n",
       "      <td>3</td>\n",
       "      <td>['문재인', '대통령', '오후', '청와대', '본관', '집무실', '코로나'...</td>\n",
       "      <td>0</td>\n",
       "    </tr>\n",
       "    <tr>\n",
       "      <td>4</td>\n",
       "      <td>['차명진', '후보', '연합뉴스', '법원', '결정', '총선', '하루', ...</td>\n",
       "      <td>0</td>\n",
       "    </tr>\n",
       "    <tr>\n",
       "      <td>...</td>\n",
       "      <td>...</td>\n",
       "      <td>...</td>\n",
       "    </tr>\n",
       "    <tr>\n",
       "      <td>91</td>\n",
       "      <td>['영구', '임대', '국민임대', '행복', '주택', '단순화', '통합', ...</td>\n",
       "      <td>1</td>\n",
       "    </tr>\n",
       "    <tr>\n",
       "      <td>92</td>\n",
       "      <td>['동영상', '뉴스', '글로벌', '경제', '위기', '각국', '중앙은행',...</td>\n",
       "      <td>1</td>\n",
       "    </tr>\n",
       "    <tr>\n",
       "      <td>93</td>\n",
       "      <td>['금통위', '친', '정부', '인사', '대거', '포진', '은', '쪽',...</td>\n",
       "      <td>1</td>\n",
       "    </tr>\n",
       "    <tr>\n",
       "      <td>94</td>\n",
       "      <td>['사진', '이미지', '투데이', '국제', '유가', '최저', '기록', '...</td>\n",
       "      <td>1</td>\n",
       "    </tr>\n",
       "    <tr>\n",
       "      <td>95</td>\n",
       "      <td>['사진', '로이터', '시간', '오늘', '국제', '유가', '혼란', '날...</td>\n",
       "      <td>1</td>\n",
       "    </tr>\n",
       "  </tbody>\n",
       "</table>\n",
       "<p>96 rows × 2 columns</p>\n",
       "</div>"
      ],
      "text/plain": [
       "                                              article  label\n",
       "0   ['의료', '물품', '비축', '제도', '신설', '기금', '등', '재원'...      0\n",
       "1   ['의료', '물품', '비축', '제도', '신설', '인도', '지원', '최대...      0\n",
       "2   ['아세안', '특별', '화상', '정상', '회의', '채택', '대통령', '...      0\n",
       "3   ['문재인', '대통령', '오후', '청와대', '본관', '집무실', '코로나'...      0\n",
       "4   ['차명진', '후보', '연합뉴스', '법원', '결정', '총선', '하루', ...      0\n",
       "..                                                ...    ...\n",
       "91  ['영구', '임대', '국민임대', '행복', '주택', '단순화', '통합', ...      1\n",
       "92  ['동영상', '뉴스', '글로벌', '경제', '위기', '각국', '중앙은행',...      1\n",
       "93  ['금통위', '친', '정부', '인사', '대거', '포진', '은', '쪽',...      1\n",
       "94  ['사진', '이미지', '투데이', '국제', '유가', '최저', '기록', '...      1\n",
       "95  ['사진', '로이터', '시간', '오늘', '국제', '유가', '혼란', '날...      1\n",
       "\n",
       "[96 rows x 2 columns]"
      ]
     },
     "execution_count": 2,
     "metadata": {},
     "output_type": "execute_result"
    }
   ],
   "source": [
    "data_token = pd.read_csv('data_token.csv', )\n",
    "data_token"
   ]
  },
  {
   "cell_type": "markdown",
   "metadata": {},
   "source": [
    "### 기사 평균 단어 수 "
   ]
  },
  {
   "cell_type": "code",
   "execution_count": 81,
   "metadata": {},
   "outputs": [
    {
     "name": "stdout",
     "output_type": "stream",
     "text": [
      "2008.1875\n"
     ]
    }
   ],
   "source": [
    "\n",
    "total = 0\n",
    "for i in range(data_token.shape[0]):\n",
    "    total += len(data_token['article'][i])\n",
    "    \n",
    "print(total/data_token.shape[0])\n",
    "        "
   ]
  },
  {
   "cell_type": "code",
   "execution_count": 3,
   "metadata": {},
   "outputs": [],
   "source": [
    "data1_token = pd.read_csv('data1_token.csv', )"
   ]
  },
  {
   "cell_type": "code",
   "execution_count": 207,
   "metadata": {},
   "outputs": [
    {
     "data": {
      "text/html": [
       "<div>\n",
       "<style scoped>\n",
       "    .dataframe tbody tr th:only-of-type {\n",
       "        vertical-align: middle;\n",
       "    }\n",
       "\n",
       "    .dataframe tbody tr th {\n",
       "        vertical-align: top;\n",
       "    }\n",
       "\n",
       "    .dataframe thead th {\n",
       "        text-align: right;\n",
       "    }\n",
       "</style>\n",
       "<table border=\"1\" class=\"dataframe\">\n",
       "  <thead>\n",
       "    <tr style=\"text-align: right;\">\n",
       "      <th></th>\n",
       "      <th>article</th>\n",
       "      <th>label</th>\n",
       "    </tr>\n",
       "  </thead>\n",
       "  <tbody>\n",
       "    <tr>\n",
       "      <td>43</td>\n",
       "      <td>['정부', '싱크탱크', '한국', '개발', '연구원', '신종', '코로나바이...</td>\n",
       "      <td>1</td>\n",
       "    </tr>\n",
       "    <tr>\n",
       "      <td>44</td>\n",
       "      <td>['재산세', '과표', '합산', '액', '금융', '소득', '이상', '가구...</td>\n",
       "      <td>1</td>\n",
       "    </tr>\n",
       "    <tr>\n",
       "      <td>45</td>\n",
       "      <td>['소득', '하위', '이하', '대상', '인', '가구', '기준', '최대'...</td>\n",
       "      <td>1</td>\n",
       "    </tr>\n",
       "    <tr>\n",
       "      <td>46</td>\n",
       "      <td>['주택', '공급', '관', '규칙', '개정안', '시행', '투기', '지구...</td>\n",
       "      <td>1</td>\n",
       "    </tr>\n",
       "    <tr>\n",
       "      <td>47</td>\n",
       "      <td>['서울', '시내', '아파트', '밀집', '지역', '사진', '뉴스', '청...</td>\n",
       "      <td>1</td>\n",
       "    </tr>\n",
       "  </tbody>\n",
       "</table>\n",
       "</div>"
      ],
      "text/plain": [
       "                                              article  label\n",
       "43  ['정부', '싱크탱크', '한국', '개발', '연구원', '신종', '코로나바이...      1\n",
       "44  ['재산세', '과표', '합산', '액', '금융', '소득', '이상', '가구...      1\n",
       "45  ['소득', '하위', '이하', '대상', '인', '가구', '기준', '최대'...      1\n",
       "46  ['주택', '공급', '관', '규칙', '개정안', '시행', '투기', '지구...      1\n",
       "47  ['서울', '시내', '아파트', '밀집', '지역', '사진', '뉴스', '청...      1"
      ]
     },
     "execution_count": 207,
     "metadata": {},
     "output_type": "execute_result"
    }
   ],
   "source": [
    "data1_token.tail()"
   ]
  },
  {
   "cell_type": "markdown",
   "metadata": {},
   "source": [
    "## train, test 데이터 만들기"
   ]
  },
  {
   "cell_type": "code",
   "execution_count": 4,
   "metadata": {},
   "outputs": [],
   "source": [
    "train_data = data_token['article']\n",
    "train_label = data_token['label']"
   ]
  },
  {
   "cell_type": "code",
   "execution_count": 5,
   "metadata": {},
   "outputs": [],
   "source": [
    "test_data = data1_token['article']\n",
    "test_label = data1_token['label']"
   ]
  },
  {
   "cell_type": "code",
   "execution_count": 6,
   "metadata": {},
   "outputs": [
    {
     "name": "stderr",
     "output_type": "stream",
     "text": [
      "Using TensorFlow backend.\n"
     ]
    }
   ],
   "source": [
    "from keras import preprocessing \n",
    "from keras.preprocessing.text import Tokenizer"
   ]
  },
  {
   "cell_type": "markdown",
   "metadata": {},
   "source": [
    "## X_train one-hot encoding"
   ]
  },
  {
   "cell_type": "code",
   "execution_count": 163,
   "metadata": {},
   "outputs": [
    {
     "data": {
      "text/plain": [
       "array([[0., 1., 1., ..., 0., 0., 0.],\n",
       "       [0., 1., 1., ..., 0., 0., 0.],\n",
       "       [0., 1., 1., ..., 0., 0., 0.],\n",
       "       ...,\n",
       "       [0., 1., 1., ..., 0., 0., 0.],\n",
       "       [0., 1., 1., ..., 0., 0., 0.],\n",
       "       [0., 1., 1., ..., 0., 1., 0.]])"
      ]
     },
     "execution_count": 163,
     "metadata": {},
     "output_type": "execute_result"
    }
   ],
   "source": [
    "tokenizer = preprocessing.text.Tokenizer(num_words=500) \n",
    "tokenizer.fit_on_texts(train_data)\n",
    "X_train = tokenizer.texts_to_matrix(train_data, mode='binary') \n",
    "X_train"
   ]
  },
  {
   "cell_type": "code",
   "execution_count": 50,
   "metadata": {},
   "outputs": [
    {
     "data": {
      "text/plain": [
       "(96, 1000)"
      ]
     },
     "execution_count": 50,
     "metadata": {},
     "output_type": "execute_result"
    }
   ],
   "source": [
    "X_train.shape"
   ]
  },
  {
   "cell_type": "markdown",
   "metadata": {},
   "source": [
    "## X_test one-hot encoding"
   ]
  },
  {
   "cell_type": "code",
   "execution_count": 164,
   "metadata": {},
   "outputs": [
    {
     "data": {
      "text/plain": [
       "array([[0., 1., 1., ..., 0., 0., 0.],\n",
       "       [0., 1., 1., ..., 0., 0., 0.],\n",
       "       [0., 1., 1., ..., 0., 0., 0.],\n",
       "       ...,\n",
       "       [0., 1., 1., ..., 0., 0., 0.],\n",
       "       [0., 0., 1., ..., 0., 0., 0.],\n",
       "       [0., 0., 1., ..., 0., 0., 0.]])"
      ]
     },
     "execution_count": 164,
     "metadata": {},
     "output_type": "execute_result"
    }
   ],
   "source": [
    "tokenizer = preprocessing.text.Tokenizer(num_words=500) \n",
    "tokenizer.fit_on_texts(test_data)\n",
    "X_test = tokenizer.texts_to_matrix(test_data, mode='binary') \n",
    "X_test"
   ]
  },
  {
   "cell_type": "markdown",
   "metadata": {},
   "source": [
    "## y_train, y_test array로 변환"
   ]
  },
  {
   "cell_type": "code",
   "execution_count": 10,
   "metadata": {},
   "outputs": [],
   "source": [
    "y_train = np.asarray(train_label).astype('float32')"
   ]
  },
  {
   "cell_type": "code",
   "execution_count": 11,
   "metadata": {},
   "outputs": [],
   "source": [
    "y_test = np.asarray(test_label).astype('float32')"
   ]
  },
  {
   "cell_type": "markdown",
   "metadata": {},
   "source": [
    "## modeling"
   ]
  },
  {
   "cell_type": "code",
   "execution_count": 82,
   "metadata": {},
   "outputs": [],
   "source": [
    "# 3.4 텐서플로 2.0 버전 선택\n",
    "try:\n",
    "    # %tensorflow_version only exists in Colab.\n",
    "    %tensorflow_version 2.x\n",
    "except Exception:\n",
    "    pass\n",
    "import tensorflow as tf\n",
    "import os"
   ]
  },
  {
   "cell_type": "code",
   "execution_count": 248,
   "metadata": {},
   "outputs": [
    {
     "name": "stdout",
     "output_type": "stream",
     "text": [
      "Train on 72 samples, validate on 24 samples\n",
      "Epoch 1/10\n",
      "72/72 [==============================] - 1s 8ms/step - loss: 0.8325 - accuracy: 0.2500 - val_loss: 0.5963 - val_accuracy: 0.7500\n",
      "Epoch 2/10\n",
      "72/72 [==============================] - 0s 208us/step - loss: 0.6997 - accuracy: 0.2639 - val_loss: 0.5964 - val_accuracy: 0.7500\n",
      "Epoch 3/10\n",
      "72/72 [==============================] - 0s 208us/step - loss: 0.6508 - accuracy: 0.5278 - val_loss: 0.6020 - val_accuracy: 0.8333\n",
      "Epoch 4/10\n",
      "72/72 [==============================] - 0s 222us/step - loss: 0.6098 - accuracy: 0.6944 - val_loss: 0.5846 - val_accuracy: 0.8750\n",
      "Epoch 5/10\n",
      "72/72 [==============================] - 0s 194us/step - loss: 0.5649 - accuracy: 0.8194 - val_loss: 0.5861 - val_accuracy: 0.8750\n",
      "Epoch 6/10\n",
      "72/72 [==============================] - 0s 222us/step - loss: 0.5226 - accuracy: 0.9722 - val_loss: 0.5594 - val_accuracy: 0.9583\n",
      "Epoch 7/10\n",
      "72/72 [==============================] - 0s 194us/step - loss: 0.4834 - accuracy: 0.9861 - val_loss: 0.5319 - val_accuracy: 1.0000\n",
      "Epoch 8/10\n",
      "72/72 [==============================] - 0s 194us/step - loss: 0.4454 - accuracy: 1.0000 - val_loss: 0.5266 - val_accuracy: 0.9167\n",
      "Epoch 9/10\n",
      "72/72 [==============================] - 0s 222us/step - loss: 0.4049 - accuracy: 1.0000 - val_loss: 0.4956 - val_accuracy: 0.9583\n",
      "Epoch 10/10\n",
      "72/72 [==============================] - 0s 194us/step - loss: 0.3613 - accuracy: 1.0000 - val_loss: 0.4767 - val_accuracy: 0.9167\n"
     ]
    }
   ],
   "source": [
    "from keras import models\n",
    "from keras import layers\n",
    "\n",
    "# from keras import optimizers  \n",
    "# optimizers.RMSprop(lr=0.001)\n",
    "\n",
    "model = models.Sequential()\n",
    "## 주요 단어 500개로 one-hot encoding -> input_shape 수 500개\n",
    "model.add(layers.Dense(16, activation='relu', input_shape=(500,)) )\n",
    "model.add(layers.Dense(16, activation='relu'))\n",
    "model.add(layers.Dense(1, activation='sigmoid' ))\n",
    "\n",
    "model.compile(optimizer='RMSProp',\n",
    "              loss='binary_crossentropy',\n",
    "              metrics=['accuracy'])\n",
    "\n",
    "history = model.fit(X_train,\n",
    "                    y_train,\n",
    "                    epochs=10,\n",
    "                    shuffle= True,\n",
    "                    batch_size=15,\n",
    "                    validation_split=0.25)"
   ]
  },
  {
   "cell_type": "code",
   "execution_count": 13,
   "metadata": {},
   "outputs": [
    {
     "data": {
      "text/plain": [
       "dict_keys(['val_loss', 'val_accuracy', 'loss', 'accuracy'])"
      ]
     },
     "execution_count": 13,
     "metadata": {},
     "output_type": "execute_result"
    }
   ],
   "source": [
    "history_dict = history.history\n",
    "history_dict.keys()"
   ]
  },
  {
   "cell_type": "code",
   "execution_count": 14,
   "metadata": {},
   "outputs": [],
   "source": [
    "import matplotlib.pyplot as plt"
   ]
  },
  {
   "cell_type": "code",
   "execution_count": 247,
   "metadata": {},
   "outputs": [
    {
     "data": {
      "image/png": "[encoded data removed]",
      "text/plain": [
       "<Figure size 432x288 with 1 Axes>"
      ]
     },
     "metadata": {
      "needs_background": "light"
     },
     "output_type": "display_data"
    }
   ],
   "source": [
    "acc = history.history['accuracy']\n",
    "val_acc = history.history['val_accuracy']\n",
    "loss = history.history['loss']\n",
    "val_loss = history.history['val_loss']\n",
    "\n",
    "epochs = range(1, len(acc) + 1)\n",
    "\n",
    "# ‘bo’는 파란색 점을 의미합니다\n",
    "plt.plot(epochs, loss, 'bo', label='Training loss')\n",
    "# ‘b’는 파란색 실선을 의미합니다\n",
    "plt.plot(epochs, val_loss, 'b', label='Validation loss')\n",
    "plt.title('Training and validation loss')\n",
    "plt.xlabel('Epochs')\n",
    "plt.ylabel('Loss')\n",
    "plt.legend()\n",
    "\n",
    "plt.show()"
   ]
  },
  {
   "cell_type": "code",
   "execution_count": 240,
   "metadata": {
    "scrolled": true
   },
   "outputs": [
    {
     "data": {
      "image/png": "[encoded data removed]",
      "text/plain": [
       "<Figure size 432x288 with 1 Axes>"
      ]
     },
     "metadata": {
      "needs_background": "light"
     },
     "output_type": "display_data"
    }
   ],
   "source": [
    "plt.clf()   # 그래프를 초기화합니다\n",
    "acc = history_dict['accuracy'][:15] # epochs 수랑 맞추기 위해서\n",
    "val_acc = history_dict['val_accuracy'][:15]\n",
    "\n",
    "plt.plot(epochs, acc, 'bo', label='Training acc')\n",
    "plt.plot(epochs, val_acc, 'b', label='Validation acc')\n",
    "plt.title('Training and validation accuracy')\n",
    "plt.xlabel('Epochs')\n",
    "plt.ylabel('Accuracy')\n",
    "plt.legend()\n",
    "\n",
    "plt.show()"
   ]
  },
  {
   "cell_type": "code",
   "execution_count": 249,
   "metadata": {},
   "outputs": [
    {
     "data": {
      "text/plain": [
       "array([[0.3596135 ],\n",
       "       [0.32930952],\n",
       "       [0.32925802],\n",
       "       [0.38240156],\n",
       "       [0.46728125],\n",
       "       [0.44276622],\n",
       "       [0.41447887],\n",
       "       [0.45353952],\n",
       "       [0.56673443],\n",
       "       [0.5014783 ],\n",
       "       [0.41793808],\n",
       "       [0.6355379 ],\n",
       "       [0.44577488],\n",
       "       [0.32279164],\n",
       "       [0.40207535],\n",
       "       [0.546078  ],\n",
       "       [0.36238873],\n",
       "       [0.39311537],\n",
       "       [0.37836516],\n",
       "       [0.4783416 ],\n",
       "       [0.3994213 ],\n",
       "       [0.49562734],\n",
       "       [0.46202528],\n",
       "       [0.44877273],\n",
       "       [0.4880881 ],\n",
       "       [0.48187926],\n",
       "       [0.43530184],\n",
       "       [0.45950562],\n",
       "       [0.5552534 ],\n",
       "       [0.48907304],\n",
       "       [0.4526846 ],\n",
       "       [0.42372105],\n",
       "       [0.42210856],\n",
       "       [0.41531208],\n",
       "       [0.72506696],\n",
       "       [0.62838936],\n",
       "       [0.6883235 ],\n",
       "       [0.6090985 ],\n",
       "       [0.46682656],\n",
       "       [0.58511615],\n",
       "       [0.47139692],\n",
       "       [0.4663511 ],\n",
       "       [0.3468785 ],\n",
       "       [0.5479964 ],\n",
       "       [0.5495923 ],\n",
       "       [0.5297257 ],\n",
       "       [0.50265104],\n",
       "       [0.6929001 ]], dtype=float32)"
      ]
     },
     "execution_count": 249,
     "metadata": {},
     "output_type": "execute_result"
    }
   ],
   "source": [
    "model.predict(X_test)"
   ]
  },
  {
   "cell_type": "code",
   "execution_count": 251,
   "metadata": {},
   "outputs": [
    {
     "name": "stdout",
     "output_type": "stream",
     "text": [
      "예측 값 : [0.3596135], 분류 예측 : 정치, 정답 : 정치\n",
      "예측 값 : [0.32930952], 분류 예측 : 정치, 정답 : 정치\n",
      "예측 값 : [0.32925802], 분류 예측 : 정치, 정답 : 정치\n",
      "예측 값 : [0.38240156], 분류 예측 : 정치, 정답 : 정치\n",
      "예측 값 : [0.46728125], 분류 예측 : 정치, 정답 : 정치\n",
      "예측 값 : [0.44276622], 분류 예측 : 정치, 정답 : 정치\n",
      "예측 값 : [0.41447887], 분류 예측 : 정치, 정답 : 정치\n",
      "예측 값 : [0.45353952], 분류 예측 : 정치, 정답 : 정치\n",
      "예측 값 : [0.56673443], 분류 예측 : 경제, 정답 : 정치\n",
      "예측 값 : [0.5014783], 분류 예측 : 경제, 정답 : 정치\n",
      "예측 값 : [0.41793808], 분류 예측 : 정치, 정답 : 정치\n",
      "예측 값 : [0.6355379], 분류 예측 : 경제, 정답 : 정치\n",
      "예측 값 : [0.44577488], 분류 예측 : 정치, 정답 : 정치\n",
      "예측 값 : [0.32279164], 분류 예측 : 정치, 정답 : 정치\n",
      "예측 값 : [0.40207535], 분류 예측 : 정치, 정답 : 정치\n",
      "예측 값 : [0.546078], 분류 예측 : 경제, 정답 : 정치\n",
      "예측 값 : [0.36238873], 분류 예측 : 정치, 정답 : 정치\n",
      "예측 값 : [0.39311537], 분류 예측 : 정치, 정답 : 정치\n",
      "예측 값 : [0.37836516], 분류 예측 : 정치, 정답 : 정치\n",
      "예측 값 : [0.4783416], 분류 예측 : 정치, 정답 : 정치\n",
      "예측 값 : [0.3994213], 분류 예측 : 정치, 정답 : 정치\n",
      "예측 값 : [0.49562734], 분류 예측 : 정치, 정답 : 정치\n",
      "예측 값 : [0.46202528], 분류 예측 : 정치, 정답 : 정치\n",
      "예측 값 : [0.44877273], 분류 예측 : 정치, 정답 : 정치\n",
      "예측 값 : [0.4880881], 분류 예측 : 정치, 정답 : 정치\n",
      "예측 값 : [0.48187926], 분류 예측 : 정치, 정답 : 정치\n",
      "예측 값 : [0.43530184], 분류 예측 : 정치, 정답 : 정치\n",
      "예측 값 : [0.45950562], 분류 예측 : 정치, 정답 : 정치\n",
      "예측 값 : [0.5552534], 분류 예측 : 경제, 정답 : 정치\n",
      "예측 값 : [0.48907304], 분류 예측 : 정치, 정답 : 정치\n",
      "예측 값 : [0.4526846], 분류 예측 : 정치, 정답 : 경제\n",
      "예측 값 : [0.42372105], 분류 예측 : 정치, 정답 : 경제\n",
      "예측 값 : [0.42210856], 분류 예측 : 정치, 정답 : 경제\n",
      "예측 값 : [0.41531208], 분류 예측 : 정치, 정답 : 경제\n",
      "예측 값 : [0.72506696], 분류 예측 : 경제, 정답 : 경제\n",
      "예측 값 : [0.62838936], 분류 예측 : 경제, 정답 : 경제\n",
      "예측 값 : [0.6883235], 분류 예측 : 경제, 정답 : 경제\n",
      "예측 값 : [0.6090985], 분류 예측 : 경제, 정답 : 경제\n",
      "예측 값 : [0.46682656], 분류 예측 : 정치, 정답 : 경제\n",
      "예측 값 : [0.58511615], 분류 예측 : 경제, 정답 : 경제\n",
      "예측 값 : [0.47139692], 분류 예측 : 정치, 정답 : 경제\n",
      "예측 값 : [0.4663511], 분류 예측 : 정치, 정답 : 경제\n",
      "예측 값 : [0.3468785], 분류 예측 : 정치, 정답 : 경제\n",
      "예측 값 : [0.5479964], 분류 예측 : 경제, 정답 : 경제\n",
      "예측 값 : [0.5495923], 분류 예측 : 경제, 정답 : 경제\n",
      "예측 값 : [0.5297257], 분류 예측 : 경제, 정답 : 경제\n",
      "예측 값 : [0.50265104], 분류 예측 : 경제, 정답 : 경제\n",
      "예측 값 : [0.6929001], 분류 예측 : 경제, 정답 : 경제\n",
      "정답 갯수 : 35, 총 갯수 : 48 \n"
     ]
    }
   ],
   "source": [
    "pred = model.predict(X_test)\n",
    "count = 0\n",
    "\n",
    "# 0 = 정치, 1= 경제\n",
    "for i in range(len(pred)):\n",
    "    if pred[i] < 0.5 :\n",
    "        if y_test[i] == 0 :\n",
    "            print('예측 값 : {}, 분류 예측 : {}, 정답 : {}'.format(pred[i], '정치', '정치' ))\n",
    "            count += 1\n",
    "        else: \n",
    "            print('예측 값 : {}, 분류 예측 : {}, 정답 : {}'.format(pred[i], '정치', '경제' ))\n",
    "    if pred[i] > 0.5 :\n",
    "        if y_test[i] == 0 :\n",
    "            print('예측 값 : {}, 분류 예측 : {}, 정답 : {}'.format(pred[i], '경제', '정치' ))\n",
    "        else: \n",
    "            print('예측 값 : {}, 분류 예측 : {}, 정답 : {}'.format(pred[i], '경제', '경제' ))\n",
    "            count += 1\n",
    "    \n",
    "print('정답 갯수 : {}, 총 갯수 : {} '.format(count, len(pred)))\n",
    "               \n",
    "    "
   ]
  }
 ],
 "metadata": {
  "kernelspec": {
   "display_name": "Python 3",
   "language": "python",
   "name": "python3"
  },
  "language_info": {
   "codemirror_mode": {
    "name": "ipython",
    "version": 3
   },
   "file_extension": ".py",
   "mimetype": "text/x-python",
   "name": "python",
   "nbconvert_exporter": "python",
   "pygments_lexer": "ipython3",
   "version": "3.7.4"
  }
 },
 "nbformat": 4,
 "nbformat_minor": 2
}
